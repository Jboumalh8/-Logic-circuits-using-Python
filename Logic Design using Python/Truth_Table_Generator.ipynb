{
 "cells": [
  {
   "cell_type": "code",
   "execution_count": null,
   "id": "c6a2a02d",
   "metadata": {},
   "outputs": [],
   "source": [
    "import gates\n",
    "from prettytable import PrettyTable"
   ]
  },
  {
   "cell_type": "code",
   "execution_count": null,
   "id": "3b23c2f7",
   "metadata": {},
   "outputs": [],
   "source": [
    "def gene(Q):\n",
    "    \n",
    "    table = PrettyTable()\n",
    "    table.field_names = [\"A\", \"B\", \"C\", \"D\", \"E\", \"F\", \"Q\"]\n",
    "    for A in range(2):\n",
    "        for B in range(2):\n",
    "            for C in range(2):\n",
    "                for D in range(2):\n",
    "                    for E in range(2):\n",
    "                        for F in range(2):\n",
    "                                R = eval(gates.sub(Q))\n",
    "                                table.add_row([A,B,C,D,E,F,R])\n",
    "    return table"
   ]
  },
  {
   "cell_type": "code",
   "execution_count": null,
   "id": "ca1fe74f",
   "metadata": {},
   "outputs": [],
   "source": [
    "Q = input(\"Equation Q = \")\n",
    "print(\"Below is the truth table for\", Q , \": \", gene(Q) )"
   ]
  }
 ],
 "metadata": {
  "kernelspec": {
   "display_name": "Python 3 (ipykernel)",
   "language": "python",
   "name": "python3"
  },
  "language_info": {
   "codemirror_mode": {
    "name": "ipython",
    "version": 3
   },
   "file_extension": ".py",
   "mimetype": "text/x-python",
   "name": "python",
   "nbconvert_exporter": "python",
   "pygments_lexer": "ipython3",
   "version": "3.9.13"
  }
 },
 "nbformat": 4,
 "nbformat_minor": 5
}
